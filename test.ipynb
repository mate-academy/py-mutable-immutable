{
 "cells": [
  {
   "cell_type": "code",
   "execution_count": 1,
   "metadata": {
    "collapsed": true,
    "ExecuteTime": {
     "end_time": "2023-06-27T12:14:45.977525Z",
     "start_time": "2023-06-27T12:14:45.962797Z"
    }
   },
   "outputs": [
    {
     "data": {
      "text/plain": "{'mutable': [['The Shawshank Redemption',\n   'The Lord of the Rings: The Return of the King',\n   'Pulp Fiction',\n   'The Good, the Bad and the Ugly',\n   'The Matrix'],\n  {'John': 4, 'Sergio': 3},\n  {1, 2, 25}],\n 'immutable': [777,\n  3.14,\n  'Richard',\n  ('michel', 'michel@gmail.com', '12345678'),\n  False]}"
     },
     "execution_count": 1,
     "metadata": {},
     "output_type": "execute_result"
    }
   ],
   "source": [
    "lucky_number = 777\n",
    "pi = 3.14\n",
    "one_is_a_prime_number = False\n",
    "name = \"Richard\"\n",
    "my_favourite_films = [\n",
    "    \"The Shawshank Redemption\",\n",
    "    \"The Lord of the Rings: The Return of the King\",\n",
    "    \"Pulp Fiction\",\n",
    "    \"The Good, the Bad and the Ugly\",\n",
    "    \"The Matrix\",\n",
    "]\n",
    "profile_info = (\"michel\", \"michel@gmail.com\", \"12345678\")\n",
    "marks = {\n",
    "    \"John\": 4,\n",
    "    \"Sergio\": 3,\n",
    "}\n",
    "collection_of_coins = {1, 2, 25}\n",
    "\n",
    "\n",
    "def check_mutability(*args) -> dict:\n",
    "\n",
    "    sorted_variables1 = {\n",
    "        \"mutable\": [],\n",
    "        \"immutable\": []\n",
    "    }\n",
    "\n",
    "    for var in args:\n",
    "        if isinstance(var, (int, bool, float, str, tuple)):\n",
    "            sorted_variables1['immutable'].append(var)\n",
    "\n",
    "        elif isinstance(var, (list, dict, set)):\n",
    "            sorted_variables1[\"mutable\"].append(var)\n",
    "\n",
    "    return sorted_variables1\n",
    "\n",
    "check_mutability(my_favourite_films, marks, collection_of_coins, lucky_number, pi, name, profile_info, one_is_a_prime_number)"
   ]
  },
  {
   "cell_type": "code",
   "execution_count": null,
   "outputs": [],
   "source": [],
   "metadata": {
    "collapsed": false
   }
  }
 ],
 "metadata": {
  "kernelspec": {
   "display_name": "Python 3",
   "language": "python",
   "name": "python3"
  },
  "language_info": {
   "codemirror_mode": {
    "name": "ipython",
    "version": 2
   },
   "file_extension": ".py",
   "mimetype": "text/x-python",
   "name": "python",
   "nbconvert_exporter": "python",
   "pygments_lexer": "ipython2",
   "version": "2.7.6"
  }
 },
 "nbformat": 4,
 "nbformat_minor": 0
}
